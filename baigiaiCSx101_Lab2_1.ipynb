{
  "nbformat": 4,
  "nbformat_minor": 0,
  "metadata": {
    "colab": {
      "name": "baigiaiCSx101.Lab2-1.ipynb",
      "provenance": [],
      "authorship_tag": "ABX9TyO4OxpiQkKQouusvGi7kTu8",
      "include_colab_link": true
    },
    "kernelspec": {
      "name": "python3",
      "display_name": "Python 3"
    },
    "language_info": {
      "name": "python"
    }
  },
  "cells": [
    {
      "cell_type": "markdown",
      "metadata": {
        "id": "view-in-github",
        "colab_type": "text"
      },
      "source": [
        "<a href=\"https://colab.research.google.com/github/hoangphan2504/2021-01-CSx101-A1/blob/main/baigiaiCSx101_Lab2_1.ipynb\" target=\"_parent\"><img src=\"https://colab.research.google.com/assets/colab-badge.svg\" alt=\"Open In Colab\"/></a>"
      ]
    },
    {
      "cell_type": "markdown",
      "metadata": {
        "id": "9CUHdHZe1Q2F"
      },
      "source": [
        "## Số lớn nhất - nhỏ nhất của dãy số\n",
        "\n",
        "Viết hàm trả về số lớn nhất, và số nhỏ nhất của một dãy số"
      ]
    },
    {
      "cell_type": "code",
      "metadata": {
        "id": "Rk-3yHVazWf6",
        "colab": {
          "base_uri": "https://localhost:8080/"
        },
        "outputId": "2354be27-439a-47f7-8edf-7c53984308c5"
      },
      "source": [
        "def findMinMax(arr):\n",
        "  arr.sort\n",
        "  return arr[0], arr[len(arr) - 1]\n",
        "  \n",
        "arr = [2, 3, 4, 6]\n",
        "\n",
        "min, max = findMinMax(arr)\n",
        "print(min)\n",
        "print(max)\n",
        "\n",
        "# Kết quả "
      ],
      "execution_count": null,
      "outputs": [
        {
          "output_type": "stream",
          "text": [
            "2\n",
            "6\n"
          ],
          "name": "stdout"
        }
      ]
    },
    {
      "cell_type": "markdown",
      "metadata": {
        "id": "nmHh7xWnhhp_"
      },
      "source": [
        "## Hoán đổi vị trí phần tử đầu và phần cuối của một dãy số\n",
        "\n",
        "Viết hoán đổi phần tử đầu và phần tử cuối của một dãy số\n",
        "\n",
        "Ví dụ:\n",
        "* Input: 1 2 3 4 5\n",
        "* Output: 5 2 3 4 1"
      ]
    },
    {
      "cell_type": "code",
      "metadata": {
        "id": "QfjAATq7zZLY",
        "colab": {
          "base_uri": "https://localhost:8080/"
        },
        "outputId": "1735b9fa-b9a3-40c8-ee62-bbe08e74d610"
      },
      "source": [
        "def swapList(arr):\n",
        "  temp=arr[0]\n",
        "  arr[0] = arr[len(arr)-1]\n",
        "  arr[len(arr)-1]=temp\n",
        "  return arr\n",
        "arr = list(map(int, input().split()))\n",
        "print(swapList(arr))\n",
        "\n"
      ],
      "execution_count": 41,
      "outputs": [
        {
          "output_type": "stream",
          "text": [
            "1 2 3 4 5\n",
            "[5, 2, 3, 4, 1]\n"
          ],
          "name": "stdout"
        }
      ]
    },
    {
      "cell_type": "markdown",
      "metadata": {
        "id": "leCn2xFwubkR"
      },
      "source": [
        "## Kiểm tra một phần tử có trong dãy số \n",
        "\n",
        "Viết hàm kiểm tra một phần tử có trong dãy số cho trước hay không\n",
        "\n",
        "Ví dụ:\n",
        "* Input: dãy số 1, 2, 3, 4, 5 và phần tử cần kiểm tra là 9\n",
        "* Output: False"
      ]
    },
    {
      "cell_type": "code",
      "metadata": {
        "id": "N2uyMnza1Bkc",
        "colab": {
          "base_uri": "https://localhost:8080/"
        },
        "outputId": "8bd548a7-c637-423c-e73f-2dfd7dabdc69"
      },
      "source": [
        "def checkNumberExist(x, arr):\n",
        "  for i in range(0,len(arr)):\n",
        "    if arr[i] == x:\n",
        "      return True\n",
        "      break\n",
        "  return False\n",
        "arr=list(map(int,input().split()))\n",
        "x=int(input())\n",
        "print(checkNumberExist(x,arr))"
      ],
      "execution_count": null,
      "outputs": [
        {
          "output_type": "stream",
          "text": [
            "1 2 3 4 5\n",
            "9\n",
            "False\n"
          ],
          "name": "stdout"
        }
      ]
    },
    {
      "cell_type": "markdown",
      "metadata": {
        "id": "mbBv-k2SkFVK"
      },
      "source": [
        "## Đảo ngược dãy số\n",
        "\n",
        "Viết hàm đảo ngược một dãy số\n",
        "\n",
        "Ví dụ: \n",
        "* Input: 1, 2, 3, 4, 5\n",
        "* Output: 5, 4, 3, 2, 1"
      ]
    },
    {
      "cell_type": "code",
      "metadata": {
        "id": "oz59rx9g1Fx6",
        "colab": {
          "base_uri": "https://localhost:8080/"
        },
        "outputId": "f996fdf0-6f01-4e24-f41e-576fa37d4c39"
      },
      "source": [
        "def reverseList(arr):\n",
        "  arr.reverse()\n",
        "arr=list(map(int,input().split()))\n",
        "reverseList(arr)\n",
        "print(arr)\n"
      ],
      "execution_count": null,
      "outputs": [
        {
          "output_type": "stream",
          "text": [
            "1 2 3 4 5\n",
            "[5, 4, 3, 2, 1]\n"
          ],
          "name": "stdout"
        }
      ]
    },
    {
      "cell_type": "markdown",
      "metadata": {
        "id": "CMIVvurg2OiU"
      },
      "source": [
        "## Số nguyên tố của dãy số\n",
        "\n",
        "Viết hàm trả về các số nguyên tố của một dãy số\n",
        "\n",
        "Ví dụ:\n",
        "* Input: 3, 7, 11, 12, 15\n",
        "* Output: 3, 7, 11"
      ]
    },
    {
      "cell_type": "code",
      "metadata": {
        "id": "-3ZMFj3r2TgX",
        "colab": {
          "base_uri": "https://localhost:8080/"
        },
        "outputId": "cd1ae111-1042-43d9-dbe8-d9adb8f4a111"
      },
      "source": [
        "def findPrimeNumbers(arr):\n",
        "  result=[]\n",
        "  for i in arr:\n",
        "    flag=1\n",
        "    for j in range(2, int(i/2)+1):\n",
        "      if (i % j) == 0:\n",
        "        flag=0\n",
        "    if flag == 1:\n",
        "      result.append(i)\n",
        "  return result   \n",
        "arr=list(map(int,input().split()))\n",
        "print(findPrimeNumbers(arr))\n",
        "\n",
        "\n",
        "        \n",
        "  \n",
        "\n"
      ],
      "execution_count": 18,
      "outputs": [
        {
          "output_type": "stream",
          "text": [
            "3 7 11 12 15\n",
            "[3, 7, 11]\n"
          ],
          "name": "stdout"
        }
      ]
    },
    {
      "cell_type": "markdown",
      "metadata": {
        "id": "cCyfKs0q4h-X"
      },
      "source": [
        "## Đếm số lần xuất hiện của một phần tử trong dãy số\n",
        "\n",
        "Viết hàm đếm số lần xuất hiện của một phần tử trong dãy số\n",
        "\n",
        "Ví dụ:\n",
        "* Input: 1, 2, 4, 2, 6, 2, 5, 2 và 2\n",
        "* Output: 4 (số 2 xuất hiện 4 lần trong dãy số trên)\n"
      ]
    },
    {
      "cell_type": "code",
      "metadata": {
        "id": "1pfCY9w04nCN",
        "colab": {
          "base_uri": "https://localhost:8080/"
        },
        "outputId": "010e859a-df98-4d68-8f55-13af223bd6db"
      },
      "source": [
        "def countOccurences(x, arr):\n",
        "  return arr.count(x)\n",
        "arr=list(map(int,input().split()))\n",
        "x=int(input())\n",
        "print(countOccurences(x,arr))\n"
      ],
      "execution_count": 42,
      "outputs": [
        {
          "output_type": "stream",
          "text": [
            "1 2 4 2 6 2 5 2\n",
            "2\n",
            "4\n"
          ],
          "name": "stdout"
        }
      ]
    },
    {
      "cell_type": "markdown",
      "metadata": {
        "id": "IQX-kblX6FFL"
      },
      "source": [
        "## Loại bỏ các phần tử trùng\n",
        "\n",
        "Viết hàm loại bỏ các phần tử trùng của một dãy cho trước. Dãy trả về bao gồm các phần tử chỉ xuất hiện một lần\n",
        "\n",
        "* Input: 10, 20, 30, 20, 20, 30, 40, 50, -20, 60, 60, -20, -20\n",
        "* Output: 10, 20, 30, 40, 50, -20, 60\n"
      ]
    },
    {
      "cell_type": "code",
      "metadata": {
        "id": "9-pRgu5w6P3w",
        "colab": {
          "base_uri": "https://localhost:8080/"
        },
        "outputId": "36929fb5-1698-4522-b156-63dcc41b09ce"
      },
      "source": [
        "def removeDuplicates(n):\n",
        "  result=[]\n",
        "  for i in arr:\n",
        "    if result.count(i) == 0:\n",
        "      result.append(i)\n",
        "  return result\n",
        "arr=list(map(int,input().split()))\n",
        "print(removeDuplicates(arr))\n"
      ],
      "execution_count": 35,
      "outputs": [
        {
          "output_type": "stream",
          "text": [
            "10 20 30 20 20 30 40 50 -20 60 60 -20 -20\n",
            "[10, 20, 30, 40, 50, -20, 60]\n"
          ],
          "name": "stdout"
        }
      ]
    },
    {
      "cell_type": "markdown",
      "metadata": {
        "id": "5A5TZTYJ2Kae"
      },
      "source": [
        "## Tìm N số lớn nhất trong dãy\n",
        "\n",
        "Viết hàm trả về N số lớn nhất trong dãy cho trước\n",
        "\n",
        "* Input: 4, 5, 1, 2, 9 và N=2\n",
        "* Output: 9, 5"
      ]
    },
    {
      "cell_type": "code",
      "metadata": {
        "id": "K2ydHtRR3ebu",
        "colab": {
          "base_uri": "https://localhost:8080/"
        },
        "outputId": "4566387d-eed7-4791-f7f8-132a529906c2"
      },
      "source": [
        "def findNLargestElements(N, arr):\n",
        "  arr.sort()\n",
        "  return arr[:N:-1]\n",
        "arr=list(map(int,input().split()))\n",
        "N=int(input())\n",
        "print(findNLargestElements(N, arr))"
      ],
      "execution_count": 36,
      "outputs": [
        {
          "output_type": "stream",
          "text": [
            "4 5 1 2 9\n",
            "2\n",
            "[9, 5]\n"
          ],
          "name": "stdout"
        }
      ]
    },
    {
      "cell_type": "markdown",
      "metadata": {
        "id": "xXSKpzjJ2Wt4"
      },
      "source": [
        "## Tính tổng tích luỹ\n",
        "\n",
        "Viết hàm tính tổng tích luỹ của một dãy. \n",
        "\n",
        "Phần tử thứ $i$ của dãy đầu ra bằng tổng các phần tử $i, i-1, i-2, ...$ của dãy đầu vào\n",
        "\n",
        "* Input: 10, 20, 30, 40, 50\n",
        "* Output: 10, 30, 60, 100, 150"
      ]
    },
    {
      "cell_type": "code",
      "metadata": {
        "id": "RfQ2N2Ty3oLy",
        "colab": {
          "base_uri": "https://localhost:8080/"
        },
        "outputId": "d05eac99-4d26-4cfa-8549-54b8a5dc81ab"
      },
      "source": [
        "def calcCumulativeSum(N, arr):\n",
        "  result=[]\n",
        "  for i in range(0,len(arr)):\n",
        "    tong=0\n",
        "    for i in range(0,i+1):\n",
        "      tong+= arr[i]\n",
        "    result.append(tong)\n",
        "  return result\n",
        "arr=list(map(int,input().split()))\n",
        "print(calcCumulativeSum(N,arr))\n"
      ],
      "execution_count": 38,
      "outputs": [
        {
          "output_type": "stream",
          "text": [
            "10 20 30 40 50\n",
            "[10, 30, 60, 100, 150]\n"
          ],
          "name": "stdout"
        }
      ]
    },
    {
      "cell_type": "markdown",
      "metadata": {
        "id": "a72UHNxW3OmA"
      },
      "source": [
        "## Xoá một số phần tử của dãy\n",
        "\n",
        "Viết hàm xoá một số phần tử của dãy\n",
        "\n",
        "* Input: 12, 15, 3, 10 và 12 và 3 là các phần tử cần xoá\n",
        "* Output: 15, 10"
      ]
    },
    {
      "cell_type": "code",
      "metadata": {
        "id": "PkwKGvI74AHU",
        "colab": {
          "base_uri": "https://localhost:8080/"
        },
        "outputId": "ae91b719-952a-49fb-e3f5-bd2c451382dc"
      },
      "source": [
        "def removeElemetns(arrInput, arrRemove):\n",
        "  result = arrInput\n",
        "  for v in arrRemove:\n",
        "    result.remove(v)\n",
        "  return result\n",
        "arrInput = list(map(int, input().split()))\n",
        "arrRemove = list(map(int, input().split()))\n",
        "print(removeElemetns(arrInput, arrRemove))"
      ],
      "execution_count": 40,
      "outputs": [
        {
          "output_type": "stream",
          "text": [
            "12 15 3 10\n",
            "12 3\n",
            "[15, 10]\n"
          ],
          "name": "stdout"
        }
      ]
    }
  ]
}